{
 "cells": [
  {
   "cell_type": "code",
   "execution_count": 2,
   "id": "35990e16",
   "metadata": {},
   "outputs": [
    {
     "name": "stdout",
     "output_type": "stream",
     "text": [
      "*****\n",
      "*****\n",
      "*****\n",
      "*****\n",
      "*****\n"
     ]
    }
   ],
   "source": [
    "def printSquare(n):\n",
    "    for i in range(n):\n",
    "        print(\"*\" * n)\n",
    "\n",
    "n = 5\n",
    "printSquare(n)"
   ]
  },
  {
   "cell_type": "code",
   "execution_count": 6,
   "id": "700550b2",
   "metadata": {},
   "outputs": [
    {
     "name": "stdout",
     "output_type": "stream",
     "text": [
      "*\n",
      "**\n",
      "***\n",
      "****\n",
      "*****\n"
     ]
    }
   ],
   "source": [
    "def printLeftTriangle(n):\n",
    "    for i in range(1, n+1):\n",
    "        print(\"*\" * i)\n",
    "        \n",
    "n = 5\n",
    "printLeftTriangle(n)"
   ]
  },
  {
   "cell_type": "code",
   "execution_count": 9,
   "id": "1dbd0c7f",
   "metadata": {},
   "outputs": [
    {
     "name": "stdout",
     "output_type": "stream",
     "text": [
      "1\n",
      "12\n",
      "123\n",
      "1234\n",
      "12345\n"
     ]
    }
   ],
   "source": [
    "def printLeftTriangleWithNums(n):\n",
    "    for i in range(1, n+1):\n",
    "        for j in range(1, i+1):\n",
    "            print(j, end=\"\")\n",
    "        print()\n",
    "\n",
    "n = 5\n",
    "printLeftTriangleWithNums(n)"
   ]
  },
  {
   "cell_type": "code",
   "execution_count": 11,
   "id": "0ce2a0f5",
   "metadata": {},
   "outputs": [
    {
     "name": "stdout",
     "output_type": "stream",
     "text": [
      "1\n",
      "22\n",
      "333\n",
      "4444\n",
      "55555\n"
     ]
    }
   ],
   "source": [
    "def printLeftTriangleWithNums2(n):\n",
    "    for i in range(1, n+1):\n",
    "        for j in range(1, i+1):\n",
    "            print(i, end=\"\")\n",
    "        print()\n",
    "\n",
    "n = 5\n",
    "printLeftTriangleWithNums2(n)"
   ]
  },
  {
   "cell_type": "code",
   "execution_count": 17,
   "id": "1778e678",
   "metadata": {},
   "outputs": [
    {
     "name": "stdout",
     "output_type": "stream",
     "text": [
      "*****\n",
      "****\n",
      "***\n",
      "**\n",
      "*\n"
     ]
    }
   ],
   "source": [
    "def printReverseLeftTriangle(n):\n",
    "    for i in range(n, 0, -1):\n",
    "        print(\"*\" * i)\n",
    "\n",
    "n = 5\n",
    "printReverseLeftTriangle(n)"
   ]
  },
  {
   "cell_type": "code",
   "execution_count": 20,
   "id": "a529e6b7",
   "metadata": {
    "scrolled": true
   },
   "outputs": [
    {
     "name": "stdout",
     "output_type": "stream",
     "text": [
      "12345\n",
      "1234\n",
      "123\n",
      "12\n",
      "1\n"
     ]
    }
   ],
   "source": [
    "def printReverseLeftTriangleWithNums(n):\n",
    "    for i in range(n, 0, -1):\n",
    "        for j in range(1, i+1):\n",
    "            print(j, end=\"\")\n",
    "        print()\n",
    "\n",
    "n = 5\n",
    "printReverseLeftTriangleWithNums(n)"
   ]
  },
  {
   "cell_type": "markdown",
   "id": "08765253",
   "metadata": {},
   "source": [
    "Create formula\n",
    "\n",
    "- 1 * 2 - 1 = 1\n",
    "- 2 * 2 - 1 = 3\n",
    "- 3 * 2 - 1 = 4\n",
    "\n",
    "Formula = i * 2 - 1"
   ]
  },
  {
   "cell_type": "code",
   "execution_count": 26,
   "id": "ca92b20d",
   "metadata": {
    "scrolled": true
   },
   "outputs": [
    {
     "name": "stdout",
     "output_type": "stream",
     "text": [
      "     *\n",
      "    ***\n",
      "   *****\n",
      "  *******\n",
      " *********\n"
     ]
    }
   ],
   "source": [
    "def printTriangle(n):\n",
    "    for i in range(1, n+1):\n",
    "        space = \" \" * (n - i)\n",
    "        star = \"*\" * (i * 2 - 1)\n",
    "        print(space, star)\n",
    "\n",
    "n = 5\n",
    "printTriangle(n)"
   ]
  },
  {
   "cell_type": "markdown",
   "id": "db54cd86",
   "metadata": {},
   "source": [
    "Create formula\n",
    "- 5 * 2 - 1 = 9\n",
    "- 4 * 2 - 1 = 7\n",
    "- 3 * 2 - 1 = 5\n",
    "\n",
    "Formula = i * 2 - 1"
   ]
  },
  {
   "cell_type": "code",
   "execution_count": 32,
   "id": "04ae2cc3",
   "metadata": {},
   "outputs": [
    {
     "name": "stdout",
     "output_type": "stream",
     "text": [
      " *********\n",
      "  *******\n",
      "   *****\n",
      "    ***\n",
      "     *\n"
     ]
    }
   ],
   "source": [
    "def printReverseTraingle(n):\n",
    "    for i in range(n, 0, -1):\n",
    "        star = \"*\" * (i * 2 -1)\n",
    "        space = \" \" * (n - i)\n",
    "        print(space, star)\n",
    "\n",
    "n = 5\n",
    "printReverseTraingle(n)"
   ]
  },
  {
   "cell_type": "code",
   "execution_count": 36,
   "id": "0af4fe88",
   "metadata": {},
   "outputs": [
    {
     "name": "stdout",
     "output_type": "stream",
     "text": [
      "     *\n",
      "    ***\n",
      "   *****\n",
      "  *******\n",
      " *********\n",
      " *********\n",
      "  *******\n",
      "   *****\n",
      "    ***\n",
      "     *\n"
     ]
    }
   ],
   "source": [
    "def printTwoTriange(n):\n",
    "    for i in range(1, n+1):\n",
    "        space = \" \" * (n - i)\n",
    "        star = \"*\" * (i * 2 - 1)\n",
    "        print(space, star)\n",
    "        \n",
    "    for j in range(n, 0, -1):\n",
    "        star = \"*\" * (j * 2 - 1)\n",
    "        space = \" \" * (n-j)\n",
    "        print(space, star)\n",
    "\n",
    "n = 5\n",
    "printTwoTriange(n)"
   ]
  },
  {
   "cell_type": "code",
   "execution_count": 43,
   "id": "143ee624",
   "metadata": {},
   "outputs": [
    {
     "name": "stdout",
     "output_type": "stream",
     "text": [
      "*\n",
      "**\n",
      "***\n",
      "****\n",
      "*****\n",
      "****\n",
      "***\n",
      "**\n",
      "*\n"
     ]
    }
   ],
   "source": [
    "def printRighArrowTriangle(n):\n",
    "    for i in range(1, n+1):\n",
    "        print(\"*\" * i)\n",
    "        \n",
    "    for j in range(n-1, 0, -1):\n",
    "        print(\"*\" * j)\n",
    "\n",
    "n = 5\n",
    "printRighArrowTriangle(n)"
   ]
  },
  {
   "cell_type": "code",
   "execution_count": 52,
   "id": "081364bf",
   "metadata": {},
   "outputs": [
    {
     "name": "stdout",
     "output_type": "stream",
     "text": [
      "\n",
      "0\n",
      "11\n",
      "000\n",
      "1111\n"
     ]
    }
   ],
   "source": [
    "def binaryTriangle(n):\n",
    "    for i in range(1, n+1):\n",
    "        if i % 2 != 0:\n",
    "            for j in range(1, i):\n",
    "                print(\"1\", end=\"\")\n",
    "        else:\n",
    "            for j in range(1, i):\n",
    "                print(\"0\", end=\"\")\n",
    "        print()\n",
    "\n",
    "n = 5\n",
    "binaryTriangle(n)"
   ]
  },
  {
   "cell_type": "code",
   "execution_count": null,
   "id": "a7f31e3a",
   "metadata": {},
   "outputs": [],
   "source": []
  }
 ],
 "metadata": {
  "kernelspec": {
   "display_name": "Python 3 (ipykernel)",
   "language": "python",
   "name": "python3"
  },
  "language_info": {
   "codemirror_mode": {
    "name": "ipython",
    "version": 3
   },
   "file_extension": ".py",
   "mimetype": "text/x-python",
   "name": "python",
   "nbconvert_exporter": "python",
   "pygments_lexer": "ipython3",
   "version": "3.9.13"
  }
 },
 "nbformat": 4,
 "nbformat_minor": 5
}
