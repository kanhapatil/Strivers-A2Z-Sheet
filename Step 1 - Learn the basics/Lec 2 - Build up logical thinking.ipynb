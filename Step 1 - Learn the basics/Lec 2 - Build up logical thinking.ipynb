{
 "cells": [
  {
   "cell_type": "code",
   "execution_count": 2,
   "id": "35990e16",
   "metadata": {},
   "outputs": [
    {
     "name": "stdout",
     "output_type": "stream",
     "text": [
      "*****\n",
      "*****\n",
      "*****\n",
      "*****\n",
      "*****\n"
     ]
    }
   ],
   "source": [
    "def printSquare(n):\n",
    "    for i in range(n):\n",
    "        print(\"*\" * n)\n",
    "\n",
    "n = 5\n",
    "printSquare(n)"
   ]
  },
  {
   "cell_type": "code",
   "execution_count": 6,
   "id": "700550b2",
   "metadata": {},
   "outputs": [
    {
     "name": "stdout",
     "output_type": "stream",
     "text": [
      "*\n",
      "**\n",
      "***\n",
      "****\n",
      "*****\n"
     ]
    }
   ],
   "source": [
    "def printLeftTriangle(n):\n",
    "    for i in range(1, n+1):\n",
    "        print(\"*\" * i)\n",
    "        \n",
    "n = 5\n",
    "printLeftTriangle(n)"
   ]
  },
  {
   "cell_type": "code",
   "execution_count": 9,
   "id": "1dbd0c7f",
   "metadata": {},
   "outputs": [
    {
     "name": "stdout",
     "output_type": "stream",
     "text": [
      "1\n",
      "12\n",
      "123\n",
      "1234\n",
      "12345\n"
     ]
    }
   ],
   "source": [
    "def printLeftTriangleWithNums(n):\n",
    "    for i in range(1, n+1):\n",
    "        for j in range(1, i+1):\n",
    "            print(j, end=\"\")\n",
    "        print()\n",
    "\n",
    "n = 5\n",
    "printLeftTriangleWithNums(n)"
   ]
  },
  {
   "cell_type": "code",
   "execution_count": 11,
   "id": "0ce2a0f5",
   "metadata": {},
   "outputs": [
    {
     "name": "stdout",
     "output_type": "stream",
     "text": [
      "1\n",
      "22\n",
      "333\n",
      "4444\n",
      "55555\n"
     ]
    }
   ],
   "source": [
    "def printLeftTriangleWithNums2(n):\n",
    "    for i in range(1, n+1):\n",
    "        for j in range(1, i+1):\n",
    "            print(i, end=\"\")\n",
    "        print()\n",
    "\n",
    "n = 5\n",
    "printLeftTriangleWithNums2(n)"
   ]
  },
  {
   "cell_type": "code",
   "execution_count": 17,
   "id": "1778e678",
   "metadata": {},
   "outputs": [
    {
     "name": "stdout",
     "output_type": "stream",
     "text": [
      "*****\n",
      "****\n",
      "***\n",
      "**\n",
      "*\n"
     ]
    }
   ],
   "source": [
    "def printReverseLeftTriangle(n):\n",
    "    for i in range(n, 0, -1):\n",
    "        print(\"*\" * i)\n",
    "\n",
    "n = 5\n",
    "printReverseLeftTriangle(n)"
   ]
  },
  {
   "cell_type": "code",
   "execution_count": 20,
   "id": "a529e6b7",
   "metadata": {
    "scrolled": true
   },
   "outputs": [
    {
     "name": "stdout",
     "output_type": "stream",
     "text": [
      "12345\n",
      "1234\n",
      "123\n",
      "12\n",
      "1\n"
     ]
    }
   ],
   "source": [
    "def printReverseLeftTriangleWithNums(n):\n",
    "    for i in range(n, 0, -1):\n",
    "        for j in range(1, i+1):\n",
    "            print(j, end=\"\")\n",
    "        print()\n",
    "\n",
    "n = 5\n",
    "printReverseLeftTriangleWithNums(n)"
   ]
  },
  {
   "cell_type": "markdown",
   "id": "08765253",
   "metadata": {},
   "source": [
    "Create formula\n",
    "\n",
    "- 1 * 2 - 1 = 1\n",
    "- 2 * 2 - 1 = 3\n",
    "- 3 * 2 - 1 = 4\n",
    "\n",
    "Formula = i * 2 - 1"
   ]
  },
  {
   "cell_type": "code",
   "execution_count": 26,
   "id": "ca92b20d",
   "metadata": {
    "scrolled": true
   },
   "outputs": [
    {
     "name": "stdout",
     "output_type": "stream",
     "text": [
      "     *\n",
      "    ***\n",
      "   *****\n",
      "  *******\n",
      " *********\n"
     ]
    }
   ],
   "source": [
    "def printTriangle(n):\n",
    "    for i in range(1, n+1):\n",
    "        space = \" \" * (n - i)\n",
    "        star = \"*\" * (i * 2 - 1)\n",
    "        print(space, star)\n",
    "\n",
    "n = 5\n",
    "printTriangle(n)"
   ]
  },
  {
   "cell_type": "markdown",
   "id": "db54cd86",
   "metadata": {},
   "source": [
    "Create formula\n",
    "- 5 * 2 - 1 = 9\n",
    "- 4 * 2 - 1 = 7\n",
    "- 3 * 2 - 1 = 5\n",
    "\n",
    "Formula = i * 2 - 1"
   ]
  },
  {
   "cell_type": "code",
   "execution_count": 32,
   "id": "04ae2cc3",
   "metadata": {},
   "outputs": [
    {
     "name": "stdout",
     "output_type": "stream",
     "text": [
      " *********\n",
      "  *******\n",
      "   *****\n",
      "    ***\n",
      "     *\n"
     ]
    }
   ],
   "source": [
    "def printReverseTraingle(n):\n",
    "    for i in range(n, 0, -1):\n",
    "        star = \"*\" * (i * 2 -1)\n",
    "        space = \" \" * (n - i)\n",
    "        print(space, star)\n",
    "\n",
    "n = 5\n",
    "printReverseTraingle(n)"
   ]
  },
  {
   "cell_type": "code",
   "execution_count": 36,
   "id": "0af4fe88",
   "metadata": {},
   "outputs": [
    {
     "name": "stdout",
     "output_type": "stream",
     "text": [
      "     *\n",
      "    ***\n",
      "   *****\n",
      "  *******\n",
      " *********\n",
      " *********\n",
      "  *******\n",
      "   *****\n",
      "    ***\n",
      "     *\n"
     ]
    }
   ],
   "source": [
    "def printTwoTriange(n):\n",
    "    for i in range(1, n+1):\n",
    "        space = \" \" * (n - i)\n",
    "        star = \"*\" * (i * 2 - 1)\n",
    "        print(space, star)\n",
    "        \n",
    "    for j in range(n, 0, -1):\n",
    "        star = \"*\" * (j * 2 - 1)\n",
    "        space = \" \" * (n-j)\n",
    "        print(space, star)\n",
    "\n",
    "n = 5\n",
    "printTwoTriange(n)"
   ]
  },
  {
   "cell_type": "code",
   "execution_count": 43,
   "id": "143ee624",
   "metadata": {
    "scrolled": true
   },
   "outputs": [
    {
     "name": "stdout",
     "output_type": "stream",
     "text": [
      "*\n",
      "**\n",
      "***\n",
      "****\n",
      "*****\n",
      "****\n",
      "***\n",
      "**\n",
      "*\n"
     ]
    }
   ],
   "source": [
    "def printRighArrowTriangle(n):\n",
    "    for i in range(1, n+1):\n",
    "        print(\"*\" * i)\n",
    "        \n",
    "    for j in range(n-1, 0, -1):\n",
    "        print(\"*\" * j)\n",
    "\n",
    "n = 5\n",
    "printRighArrowTriangle(n)"
   ]
  },
  {
   "cell_type": "markdown",
   "id": "c1dd87b5",
   "metadata": {},
   "source": [
    "# Binary number triangle (Approach one)"
   ]
  },
  {
   "cell_type": "code",
   "execution_count": 27,
   "id": "081364bf",
   "metadata": {},
   "outputs": [
    {
     "name": "stdout",
     "output_type": "stream",
     "text": [
      "1\n",
      "01\n",
      "101\n",
      "0101\n",
      "10101\n"
     ]
    }
   ],
   "source": [
    "def binaryTriangle(n):\n",
    "    for i in range(1, n+1):\n",
    "        if i % 2 == 0:\n",
    "            for j in range(i): # counting start from zero always\n",
    "                if j % 2 == 0:\n",
    "                    print(j % 2, end=\"\")\n",
    "                else:\n",
    "                    print(j % 2, end=\"\")\n",
    "            print()\n",
    "        else:\n",
    "            for j in range(1, i+1):\n",
    "                if j % 2 == 0:\n",
    "                    print(j % 2, end=\"\")\n",
    "                else:\n",
    "                    print(j % 2, end=\"\")\n",
    "            print()\n",
    "\n",
    "n = 5\n",
    "binaryTriangle(n)"
   ]
  },
  {
   "cell_type": "markdown",
   "id": "bb56359e",
   "metadata": {},
   "source": [
    "###  Binary number triangle (Approach two)"
   ]
  },
  {
   "cell_type": "code",
   "execution_count": 46,
   "id": "a1562c7b",
   "metadata": {},
   "outputs": [
    {
     "name": "stdout",
     "output_type": "stream",
     "text": [
      "1\n",
      "01\n",
      "101\n",
      "0101\n",
      "10101\n"
     ]
    }
   ],
   "source": [
    "def binaryTriangle2(n):\n",
    "    for i in range(1, n+1):\n",
    "        if i % 2 == 0:\n",
    "            for j in range(i):\n",
    "                print(j % 2, end=\"\")\n",
    "            print()\n",
    "        else:\n",
    "            for j in range(1, i+1):\n",
    "                print(j % 2, end=\"\")\n",
    "            print()\n",
    "\n",
    "n = 5\n",
    "binaryTriangle2(n)"
   ]
  },
  {
   "cell_type": "markdown",
   "id": "3ad3e0f9",
   "metadata": {},
   "source": [
    "### Binary number triangle (Approach three)"
   ]
  },
  {
   "cell_type": "code",
   "execution_count": 51,
   "id": "e011fd6f",
   "metadata": {},
   "outputs": [
    {
     "name": "stdout",
     "output_type": "stream",
     "text": [
      "0\n",
      "1\n",
      "0\n"
     ]
    }
   ],
   "source": [
    "i = 2\n",
    "j = 0\n",
    "\n",
    "print((i+j) % 2)\n",
    "\n",
    "j = 1\n",
    "print((i+j) % 2)\n",
    "\n",
    "j = 2\n",
    "print((i+j) % 2)"
   ]
  },
  {
   "cell_type": "code",
   "execution_count": 48,
   "id": "f819ee32",
   "metadata": {},
   "outputs": [
    {
     "name": "stdout",
     "output_type": "stream",
     "text": [
      "1\n",
      "01\n",
      "101\n",
      "0101\n",
      "10101\n"
     ]
    }
   ],
   "source": [
    "def binaryTriangle3(n):\n",
    "    for i in range(1, n+1):\n",
    "        for j in range(i):\n",
    "            print((i+j) % 2, end=\"\")\n",
    "        print()\n",
    "\n",
    "n = 5\n",
    "binaryTriangle3(n)"
   ]
  },
  {
   "cell_type": "markdown",
   "id": "95044136",
   "metadata": {},
   "source": [
    "# Left right triangle \n",
    "- calculate space between two triangle\n",
    "- n = 5\n",
    "- 1\"23455432\"1 (23455432 this are space for first row which is 8\n",
    "- 12\"345543\"21 (345543 this are space for second row which is 6"
   ]
  },
  {
   "cell_type": "code",
   "execution_count": 61,
   "id": "4b2aa729",
   "metadata": {},
   "outputs": [
    {
     "name": "stdout",
     "output_type": "stream",
     "text": [
      "8\n",
      "6\n"
     ]
    }
   ],
   "source": [
    "n = 5\n",
    "i = 1\n",
    "\n",
    "print((n-i)*2) # 8\n",
    "\n",
    "i = 2\n",
    "print((n-i)*2) # 6"
   ]
  },
  {
   "cell_type": "code",
   "execution_count": 79,
   "id": "c9544bea",
   "metadata": {},
   "outputs": [
    {
     "name": "stdout",
     "output_type": "stream",
     "text": [
      "1        1\n",
      "12      21\n",
      "123    321\n",
      "1234  4321\n",
      "1234554321\n"
     ]
    }
   ],
   "source": [
    "def leftRightTriangle(n):\n",
    "    for i in range(1, n+1):\n",
    "        # left side\n",
    "        for j in range(1, i+1):\n",
    "            print(j, end=\"\")\n",
    "            \n",
    "        # middle space\n",
    "        space = \" \" * (n-i) * 2\n",
    "        print(space, end=\"\")\n",
    "        \n",
    "        # right side\n",
    "        for j in range(i, 0, -1):\n",
    "            print(j, end=\"\")\n",
    "            \n",
    "        print()\n",
    "        \n",
    "\n",
    "n = 5\n",
    "leftRightTriangle(n)"
   ]
  },
  {
   "cell_type": "markdown",
   "id": "701b4dea",
   "metadata": {},
   "source": [
    "# Counting triangle"
   ]
  },
  {
   "cell_type": "code",
   "execution_count": 87,
   "id": "bd66e0ec",
   "metadata": {},
   "outputs": [
    {
     "name": "stdout",
     "output_type": "stream",
     "text": [
      "\n",
      "1  \n",
      "2  3  \n",
      "4  5  6  \n",
      "7  8  9  10  \n",
      "11  12  13  14  15  \n"
     ]
    }
   ],
   "source": [
    "def countingTriangle(n):\n",
    "    count = 1\n",
    "    for i in range(n+1):\n",
    "        for j in range(i):\n",
    "            print(count, \" \", end=\"\")\n",
    "            count += 1\n",
    "        print()\n",
    "\n",
    "n = 5\n",
    "countingTriangle(n)"
   ]
  },
  {
   "cell_type": "markdown",
   "id": "6d95ae3c",
   "metadata": {},
   "source": [
    "# Patterns in Alphabets"
   ]
  },
  {
   "cell_type": "code",
   "execution_count": 13,
   "id": "8a7b89a2",
   "metadata": {},
   "outputs": [
    {
     "name": "stdout",
     "output_type": "stream",
     "text": [
      "A\n",
      "AB\n",
      "ABC\n",
      "ABCD\n",
      "ABCDE\n"
     ]
    }
   ],
   "source": [
    "def alphatbeLeftTriangle(n):\n",
    "    for i in range(1, n+1):\n",
    "        for j in range(i):\n",
    "            print(chr(65 + j), end=\"\")\n",
    "        print()\n",
    "\n",
    "n = 5\n",
    "alphatbeLeftTriangle(n)"
   ]
  },
  {
   "cell_type": "code",
   "execution_count": 14,
   "id": "8652a1cb",
   "metadata": {},
   "outputs": [
    {
     "name": "stdout",
     "output_type": "stream",
     "text": [
      "ABCDE\n",
      "ABCD\n",
      "ABC\n",
      "AB\n",
      "A\n"
     ]
    }
   ],
   "source": [
    "def alphatbeLeftReverseTriangle(n):\n",
    "    for i in range(n, 0, -1):\n",
    "        for j in range(i):\n",
    "            print(chr(65 + j), end=\"\")\n",
    "        print()\n",
    "\n",
    "n = 5\n",
    "alphatbeLeftReverseTriangle(n)"
   ]
  },
  {
   "cell_type": "code",
   "execution_count": 18,
   "id": "3711290b",
   "metadata": {},
   "outputs": [
    {
     "name": "stdout",
     "output_type": "stream",
     "text": [
      "A\n",
      "BB\n",
      "CCC\n",
      "DDDD\n",
      "EEEEE\n"
     ]
    }
   ],
   "source": [
    "def alphatbeTriangle(n):\n",
    "    num = 65\n",
    "    for i in range(1, n+1):\n",
    "        for j in range(i):\n",
    "            print(chr(num), end=\"\")\n",
    "        num += 1\n",
    "        print()\n",
    "\n",
    "n = 5\n",
    "alphatbeTriangle(n)"
   ]
  },
  {
   "cell_type": "code",
   "execution_count": 9,
   "id": "31cdf533",
   "metadata": {},
   "outputs": [
    {
     "name": "stdout",
     "output_type": "stream",
     "text": [
      "    A\n",
      "   ABA\n",
      "  ABCBA\n",
      " ABCDCBA\n",
      "ABCDEDCBA\n"
     ]
    }
   ],
   "source": [
    "def alphaTriangle(n):\n",
    "    for i in range(1, n+1):\n",
    "        print(\" \" * (n-i), end=\"\")\n",
    "        for j in range(1, i+1):\n",
    "            print(chr(64 + j), end=\"\")\n",
    "            \n",
    "        for k in range(i-1, 0, -1):\n",
    "            print(chr(64 + k), end=\"\")\n",
    "        print()\n",
    "\n",
    "n = 5\n",
    "alphaTriangle(n)"
   ]
  },
  {
   "cell_type": "code",
   "execution_count": 45,
   "id": "fd6722db",
   "metadata": {},
   "outputs": [
    {
     "name": "stdout",
     "output_type": "stream",
     "text": [
      "E\n",
      "DE\n",
      "CDE\n",
      "BCDE\n",
      "ABCDE\n"
     ]
    }
   ],
   "source": [
    "def reverseAlphaTriangle(n):\n",
    "    for i in range(n):\n",
    "        for j in range(n-i, n+1):\n",
    "            print(chr(64 + j), end=\"\")\n",
    "        print()\n",
    "\n",
    "n = 5\n",
    "reverseAlphaTriangle(n)"
   ]
  },
  {
   "cell_type": "code",
   "execution_count": 60,
   "id": "0e034c67",
   "metadata": {},
   "outputs": [
    {
     "name": "stdout",
     "output_type": "stream",
     "text": [
      "****\n",
      "*  *\n",
      "*  *\n",
      "****\n"
     ]
    }
   ],
   "source": [
    "def emptySquare(n):\n",
    "    for i in range(1, n+1):\n",
    "        for j in range(1, n+1):\n",
    "            if i == 1 or i == n or j == 1 or j == n:\n",
    "                print(\"*\", end=\"\")\n",
    "            else:\n",
    "                print(\" \", end=\"\")\n",
    "        print()\n",
    "\n",
    "n = 4\n",
    "emptySquare(n)"
   ]
  },
  {
   "cell_type": "code",
   "execution_count": null,
   "id": "3390bfb4",
   "metadata": {},
   "outputs": [],
   "source": []
  }
 ],
 "metadata": {
  "kernelspec": {
   "display_name": "Python 3 (ipykernel)",
   "language": "python",
   "name": "python3"
  },
  "language_info": {
   "codemirror_mode": {
    "name": "ipython",
    "version": 3
   },
   "file_extension": ".py",
   "mimetype": "text/x-python",
   "name": "python",
   "nbconvert_exporter": "python",
   "pygments_lexer": "ipython3",
   "version": "3.9.13"
  }
 },
 "nbformat": 4,
 "nbformat_minor": 5
}
